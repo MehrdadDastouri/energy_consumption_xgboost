{
  "nbformat": 4,
  "nbformat_minor": 0,
  "metadata": {
    "colab": {
      "provenance": [],
      "authorship_tag": "ABX9TyMSyocUfb1D4uhR2P8cmF42",
      "include_colab_link": true
    },
    "kernelspec": {
      "name": "python3",
      "display_name": "Python 3"
    },
    "language_info": {
      "name": "python"
    }
  },
  "cells": [
    {
      "cell_type": "markdown",
      "metadata": {
        "id": "view-in-github",
        "colab_type": "text"
      },
      "source": [
        "<a href=\"https://colab.research.google.com/github/MehrdadDastouri/energy_consumption_xgboost/blob/main/energy_consumption_xgboost.ipynb\" target=\"_parent\"><img src=\"https://colab.research.google.com/assets/colab-badge.svg\" alt=\"Open In Colab\"/></a>"
      ]
    },
    {
      "cell_type": "code",
      "source": [
        "# Import necessary libraries\n",
        "import pandas as pd\n",
        "import numpy as np\n",
        "from sklearn.model_selection import train_test_split\n",
        "from sklearn.metrics import mean_squared_error, r2_score\n",
        "from sklearn.preprocessing import StandardScaler\n",
        "import xgboost as xgb\n",
        "import matplotlib.pyplot as plt\n",
        "\n",
        "# Load the dataset\n",
        "# You can download an energy consumption dataset (e.g., from Kaggle or UCI Machine Learning Repository)\n",
        "data = pd.read_csv(\"energy_data.csv\")\n",
        "print(\"Dataset Preview:\")\n",
        "print(data.head())\n",
        "\n",
        "# Check for missing values\n",
        "print(\"\\nChecking for missing values:\")\n",
        "print(data.isnull().sum())\n",
        "\n",
        "# Drop rows with missing values (if any)\n",
        "data = data.dropna()\n",
        "\n",
        "# Features and target\n",
        "# Assuming 'Energy_Consumption' is the target column\n",
        "X = data.drop(columns=[\"Energy_Consumption\"])\n",
        "y = data[\"Energy_Consumption\"]\n",
        "\n",
        "# Standardize the features\n",
        "scaler = StandardScaler()\n",
        "X_scaled = scaler.fit_transform(X)\n",
        "\n",
        "# Split the data into training and testing sets\n",
        "X_train, X_test, y_train, y_test = train_test_split(X_scaled, y, test_size=0.2, random_state=42)\n",
        "\n",
        "# Convert data into DMatrix format (required for XGBoost)\n",
        "dtrain = xgb.DMatrix(X_train, label=y_train)\n",
        "dtest = xgb.DMatrix(X_test, label=y_test)\n",
        "\n",
        "# XGBoost parameters\n",
        "params = {\n",
        "    \"objective\": \"reg:squarederror\",  # Regression task\n",
        "    \"max_depth\": 6,                  # Maximum depth of a tree\n",
        "    \"eta\": 0.1,                      # Learning rate\n",
        "    \"subsample\": 0.8,                # Fraction of samples used per tree\n",
        "    \"colsample_bytree\": 0.8,         # Fraction of features used per tree\n",
        "    \"seed\": 42\n",
        "}\n",
        "\n",
        "# Train the XGBoost model\n",
        "num_rounds = 100\n",
        "print(\"\\nTraining the XGBoost model...\")\n",
        "model = xgb.train(params, dtrain, num_rounds)\n",
        "\n",
        "# Make predictions\n",
        "y_pred = model.predict(dtest)\n",
        "\n",
        "# Evaluation metrics\n",
        "mse = mean_squared_error(y_test, y_pred)\n",
        "rmse = np.sqrt(mse)\n",
        "r2 = r2_score(y_test, y_pred)\n",
        "\n",
        "print(\"\\nModel Performance:\")\n",
        "print(f\"Mean Squared Error (MSE): {mse:.2f}\")\n",
        "print(f\"Root Mean Squared Error (RMSE): {rmse:.2f}\")\n",
        "print(f\"R-squared (R2): {r2:.2f}\")\n",
        "\n",
        "# Plot actual vs predicted values\n",
        "plt.figure(figsize=(10, 6))\n",
        "plt.scatter(y_test, y_pred, alpha=0.6, color=\"blue\")\n",
        "plt.plot([y_test.min(), y_test.max()], [y_test.min(), y_test.max()], \"--\", color=\"red\", linewidth=2)\n",
        "plt.xlabel(\"Actual Energy Consumption\")\n",
        "plt.ylabel(\"Predicted Energy Consumption\")\n",
        "plt.title(\"Actual vs Predicted Energy Consumption\")\n",
        "plt.show()\n",
        "\n",
        "# Feature importance\n",
        "importance = model.get_score(importance_type=\"weight\")\n",
        "importance_df = pd.DataFrame({\"Feature\": importance.keys(), \"Importance\": importance.values()})\n",
        "importance_df = importance_df.sort_values(by=\"Importance\", ascending=False)\n",
        "\n",
        "# Plot feature importance\n",
        "plt.figure(figsize=(10, 6))\n",
        "plt.barh(importance_df[\"Feature\"], importance_df[\"Importance\"], color=\"skyblue\")\n",
        "plt.xlabel(\"Importance\")\n",
        "plt.ylabel(\"Features\")\n",
        "plt.title(\"Feature Importance\")\n",
        "plt.gca().invert_yaxis()\n",
        "plt.show()"
      ],
      "metadata": {
        "id": "xhPzgUMDGtKX"
      },
      "execution_count": null,
      "outputs": []
    }
  ]
}